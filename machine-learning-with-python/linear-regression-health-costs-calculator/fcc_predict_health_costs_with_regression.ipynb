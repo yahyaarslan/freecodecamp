{
  "cells": [
    {
      "cell_type": "code",
      "execution_count": null,
      "metadata": {
        "id": "1rRo8oNqZ-Rj"
      },
      "outputs": [],
      "source": [
        "# Import libraries. You may or may not use all of these.\n",
        "!pip install -q git+https://github.com/tensorflow/docs\n",
        "import matplotlib.pyplot as plt\n",
        "import numpy as np\n",
        "import pandas as pd\n",
        "\n",
        "try:\n",
        "  # %tensorflow_version only exists in Colab.\n",
        "  %tensorflow_version 2.x\n",
        "except Exception:\n",
        "  pass\n",
        "import tensorflow as tf\n",
        "\n",
        "from tensorflow import keras\n",
        "from tensorflow.keras import layers\n",
        "\n",
        "import tensorflow_docs as tfdocs\n",
        "import tensorflow_docs.plots\n",
        "import tensorflow_docs.modeling"
      ]
    },
    {
      "cell_type": "code",
      "execution_count": null,
      "metadata": {
        "id": "CiX2FI4gZtTt"
      },
      "outputs": [],
      "source": [
        "# Import data\n",
        "!wget https://cdn.freecodecamp.org/project-data/health-costs/insurance.csv\n",
        "dataset = pd.read_csv('insurance.csv')\n",
        "dataset.tail()"
      ]
    },
    {
      "cell_type": "code",
      "execution_count": null,
      "metadata": {
        "id": "LcopvQh3X-kX"
      },
      "outputs": [],
      "source": [
        "# From string to numbers\n",
        "dataset['sex'] = dataset['sex'].apply({'male':0, 'female':1}. get)\n",
        "dataset['smoker'] = dataset['smoker'].apply({'yes':1, 'no': 0}.get)\n",
        "dataset['region'] = dataset['region'].apply({'northwest':0, 'northeast':1, 'southwest':2, 'southeast':3}.get)\n",
        "\n"
      ]
    },
    {
      "cell_type": "code",
      "source": [
        "# Encode to categorical data\n",
        "from sklearn.compose import ColumnTransformer\n",
        "from sklearn.preprocessing import OneHotEncoder\n",
        "\n",
        "ct = ColumnTransformer(transformers=[('encoder', OneHotEncoder(), [1, 4, 5])], remainder='passthrough')\n",
        "dataset = np.array(ct.fit_transform(dataset))"
      ],
      "metadata": {
        "id": "VPXEUXSWjtjn"
      },
      "execution_count": null,
      "outputs": []
    },
    {
      "cell_type": "code",
      "source": [
        "# Split the dataset into Training- and Test sets\n",
        "from sklearn.model_selection import train_test_split\n",
        "train_dataset, test_dataset = train_test_split(dataset, test_size = 0.2, random_state=0)"
      ],
      "metadata": {
        "id": "pnyguOxMkRN0"
      },
      "execution_count": null,
      "outputs": []
    },
    {
      "cell_type": "code",
      "source": [
        "# To dataframe, in order to pop\n",
        "train_dataset = pd.DataFrame(train_dataset)\n",
        "test_dataset = pd.DataFrame(test_dataset)\n",
        "\n",
        "train_labels = train_dataset.pop(11)\n",
        "test_labels = test_dataset.pop(11)"
      ],
      "metadata": {
        "id": "6i-kcKdKkiCl"
      },
      "execution_count": null,
      "outputs": []
    },
    {
      "cell_type": "code",
      "source": [
        "# Feature scaling\n",
        "from sklearn.preprocessing import StandardScaler\n",
        "sc = StandardScaler()\n",
        "\n",
        "train_dataset = sc.fit_transform(train_dataset)\n",
        "test_dataset = sc.fit_transform(test_dataset)"
      ],
      "metadata": {
        "id": "jOU3RXoxkzlg"
      },
      "execution_count": null,
      "outputs": []
    },
    {
      "cell_type": "code",
      "source": [
        "# Build model\n",
        "\n",
        "# Init.\n",
        "model = tf.keras.models.Sequential()\n",
        "\n",
        "# First hidden layer\n",
        "model.add(tf.keras.layers.Dense(units=6, activation='relu'))\n",
        "\n",
        "# Second ^\n",
        "model.add(tf.keras.layers.Dense(units=6, activation='relu'))\n",
        "\n",
        "# Third ^\n",
        "model.add(tf.keras.layers.Dense(units=1, activation='linear'))"
      ],
      "metadata": {
        "id": "oqe0tFV3lDCV"
      },
      "execution_count": null,
      "outputs": []
    },
    {
      "cell_type": "code",
      "source": [
        "# Train the ANN\n",
        "\n",
        "# Compile\n",
        "from keras.optimizers import SGD\n",
        "opt = SGD(lr=0.001, momentum=0.9)\n",
        "model.compile(optimizer=opt, loss = 'mean_absolute_error', metrics = ['mae', 'mse'])\n",
        "\n",
        "# Training\n",
        "model.fit(train_dataset, train_labels,\n",
        "          batch_size = 32,\n",
        "          epochs = 100,\n",
        "          validation_data = (test_dataset, test_labels),\n",
        "          verbose = 2)"
      ],
      "metadata": {
        "id": "rJF0PKD6lZgp"
      },
      "execution_count": null,
      "outputs": []
    },
    {
      "cell_type": "code",
      "execution_count": null,
      "metadata": {
        "id": "Xe7RXH3N3CWU"
      },
      "outputs": [],
      "source": [
        "# RUN THIS CELL TO TEST YOUR MODEL. DO NOT MODIFY CONTENTS.\n",
        "# Test model by checking how well the model generalizes using the test set.\n",
        "loss, mae, mse = model.evaluate(test_dataset, test_labels, verbose=2)\n",
        "\n",
        "print(\"Testing set Mean Abs Error: {:5.2f} expenses\".format(mae))\n",
        "\n",
        "if mae < 3500:\n",
        "  print(\"You passed the challenge. Great job!\")\n",
        "else:\n",
        "  print(\"The Mean Abs Error must be less than 3500. Keep trying.\")\n",
        "\n",
        "# Plot predictions.\n",
        "test_predictions = model.predict(test_dataset).flatten()\n",
        "\n",
        "a = plt.axes(aspect='equal')\n",
        "plt.scatter(test_labels, test_predictions)\n",
        "plt.xlabel('True values (expenses)')\n",
        "plt.ylabel('Predictions (expenses)')\n",
        "lims = [0, 50000]\n",
        "plt.xlim(lims)\n",
        "plt.ylim(lims)\n",
        "_ = plt.plot(lims,lims)\n"
      ]
    }
  ],
  "metadata": {
    "colab": {
      "name": "fcc_predict_health_costs_with_regression.ipynb",
      "private_outputs": true,
      "provenance": []
    },
    "kernelspec": {
      "display_name": "Python 3",
      "name": "python3"
    }
  },
  "nbformat": 4,
  "nbformat_minor": 0
}